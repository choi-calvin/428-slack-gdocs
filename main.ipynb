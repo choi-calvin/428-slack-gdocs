{
 "cells": [
  {
   "cell_type": "markdown",
   "metadata": {},
   "source": [
    "1. Get the Slack export data by following [these instructions](https://slack.com/intl/en-ca/help/articles/201658943-Export-your-workspace-data#free-and-standard-plans-1)\n",
    "2. Set up the [Python Google Docs API](https://developers.google.com/docs/api/quickstart/python)\n",
    "3. Run the code below"
   ]
  },
  {
   "cell_type": "code",
   "execution_count": 27,
   "metadata": {},
   "outputs": [],
   "source": [
    "import os\n",
    "\n",
    "if not os.path.isfile(\"credentials.json\"):\n",
    "    raise FileExistsError(\"credentials.json must be in this working directory\")"
   ]
  },
  {
   "cell_type": "code",
   "execution_count": 4,
   "metadata": {},
   "outputs": [],
   "source": [
    "import glob\n",
    "import zipfile\n",
    "\n",
    "\n",
    "data_dir = \"out\"\n",
    "\n",
    "# Unzip all exported Slack messages into out/\n",
    "for file_name in glob.glob('*.zip'):\n",
    "    with zipfile.ZipFile(file_name, 'r') as zip_ref:\n",
    "        zip_ref.extractall(data_dir)"
   ]
  },
  {
   "cell_type": "code",
   "execution_count": 74,
   "metadata": {},
   "outputs": [],
   "source": [
    "drive_dir = \"11DLP8O_cb-2PSR6hBGA0oXlAY6GVh6Lx\"  # This is the \"Slack Exports\" directory"
   ]
  },
  {
   "cell_type": "markdown",
   "metadata": {},
   "source": [
    "Set up credentials for GDrive and GCloud"
   ]
  },
  {
   "cell_type": "code",
   "execution_count": 56,
   "metadata": {},
   "outputs": [
    {
     "name": "stdout",
     "output_type": "stream",
     "text": [
      "here\n",
      "Please visit this URL to authorize this application: https://accounts.google.com/o/oauth2/auth?response_type=code&client_id=886406488177-meq32e40sgl8fvvkhbqdtpemq9bctn1d.apps.googleusercontent.com&redirect_uri=http%3A%2F%2Flocalhost%3A54137%2F&scope=https%3A%2F%2Fwww.googleapis.com%2Fauth%2Fdrive&state=0NJy2IA23TTlSAsFuXMmwCXZwntegn&access_type=offline\n"
     ]
    }
   ],
   "source": [
    "from __future__ import print_function\n",
    "import os.path\n",
    "from googleapiclient.discovery import build\n",
    "from google_auth_oauthlib.flow import InstalledAppFlow\n",
    "from google.auth.transport.requests import Request\n",
    "from google.oauth2.credentials import Credentials\n",
    "\n",
    "# If modifying these scopes, delete the file token.json.\n",
    "SCOPES = ['https://www.googleapis.com/auth/drive']\n",
    "\n",
    "creds = None\n",
    "# The file token.json stores the user's access and refresh tokens, and is\n",
    "# created automatically when the authorization flow completes for the first\n",
    "# time.\n",
    "if os.path.exists('token.json'):\n",
    "    creds = Credentials.from_authorized_user_file('token.json', SCOPES)\n",
    "# If there are no (valid) credentials available, let the user log in.\n",
    "if not creds or not creds.valid:\n",
    "    if creds and creds.expired and creds.refresh_token:\n",
    "        creds.refresh(Request())\n",
    "    else:\n",
    "        flow = InstalledAppFlow.from_client_secrets_file(\n",
    "            'credentials.json', SCOPES)\n",
    "        creds = flow.run_local_server(port=0)\n",
    "    # Save the credentials for the next run\n",
    "    with open('token.json', 'w') as token:\n",
    "        token.write(creds.to_json())\n",
    "\n",
    "drive_service = build('drive', 'v3', credentials=creds)\n",
    "docs_service = build('docs', 'v1', credentials=creds)"
   ]
  },
  {
   "cell_type": "code",
   "execution_count": 72,
   "metadata": {},
   "outputs": [],
   "source": [
    "def create_file(title):\n",
    "    body = {\n",
    "        'title': title,\n",
    "    }\n",
    "    return docs_service.documents().create(body=body).execute()\n",
    "\n",
    "def create_dir(name):\n",
    "    file_metadata = {\n",
    "        'name': name,\n",
    "        'mimeType': 'application/vnd.google-apps.folder'\n",
    "    }\n",
    "    return drive_service.files().create(body=file_metadata,\n",
    "                                        fields='id').execute()\n",
    "\n",
    "def move(file_id, new_folder_id):\n",
    "    # Retrieve the existing parents to remove\n",
    "    file = drive_service.files().get(fileId=file_id,\n",
    "                                     fields='parents').execute()\n",
    "    previous_parents = \",\".join(file.get('parents'))\n",
    "    # Move the file to the new folder\n",
    "    return drive_service.files().update(fileId=file_id,\n",
    "                                        addParents=new_folder_id,\n",
    "                                        removeParents=previous_parents,\n",
    "                                        fields='id, parents').execute()\n",
    "\n",
    "def addText(file_id, text):\n",
    "    requests = [\n",
    "         {\n",
    "            'insertText': {\n",
    "                'location': {\n",
    "                    'index': 1,\n",
    "                },\n",
    "                'text': text\n",
    "            }\n",
    "        }\n",
    "    ]\n",
    "\n",
    "    return docs_service.documents().batchUpdate(\n",
    "        documentId=file_id, body={'requests': requests}).execute()"
   ]
  },
  {
   "cell_type": "code",
   "execution_count": 98,
   "metadata": {},
   "outputs": [],
   "source": [
    "from datetime import datetime\n",
    "\n",
    "def get_date(ts):\n",
    "    return datetime.utcfromtimestamp(int(float(ts))).strftime('%Y-%m-%d %H:%M:%S')\n",
    "\n",
    "def format_messages(messages):\n",
    "    texts = []\n",
    "    \n",
    "    for msg in messages:\n",
    "        if msg.get(\"type\", None) != \"message\":\n",
    "            continue\n",
    "        user = msg.get(\"user_profile\", {})\n",
    "        name = user.get(\"display_name\", None)\n",
    "        ts = msg.get(\"ts\", None)\n",
    "        \n",
    "        if not name or not ts:\n",
    "            continue\n",
    "        \n",
    "        text = msg.get(\"text\", \"\")\n",
    "        texts.append(f\"{get_date(ts)} - {name}: {text}\")\n",
    "    \n",
    "    return texts"
   ]
  },
  {
   "cell_type": "code",
   "execution_count": null,
   "metadata": {},
   "outputs": [],
   "source": [
    "done = set()"
   ]
  },
  {
   "cell_type": "code",
   "execution_count": null,
   "metadata": {},
   "outputs": [
    {
     "name": "stdout",
     "output_type": "stream",
     "text": [
      "Creating socials\n",
      "done\n",
      "Creating emojis\n"
     ]
    }
   ],
   "source": [
    "import json\n",
    "\n",
    "for channel_name in os.listdir(data_dir):\n",
    "    if channel_name in done:\n",
    "        continue\n",
    "    \n",
    "    print(f\"Creating {channel_name}\")\n",
    "    \n",
    "    if os.path.isdir(os.path.join(data_dir, channel_name)):\n",
    "        all_texts = []\n",
    "        \n",
    "        for date_name in os.listdir(os.path.join(data_dir, channel_name)):\n",
    "            file_path = os.path.join(data_dir, channel_name, date_name)\n",
    "            \n",
    "            with open(file_path) as f:\n",
    "                messages = json.load(f)\n",
    "                all_texts = all_texts + format_messages(messages)\n",
    "    \n",
    "    file = create_file(channel_name)\n",
    "    all_texts = \"\\n\".join(all_texts)\n",
    "    if all_texts:\n",
    "        addText(file[\"documentId\"], all_texts)\n",
    "    move(file[\"documentId\"], drive_dir)\n",
    "    \n",
    "    done.add(channel_name)\n",
    "    print(\"done\")"
   ]
  },
  {
   "cell_type": "code",
   "execution_count": null,
   "metadata": {},
   "outputs": [],
   "source": []
  }
 ],
 "metadata": {
  "kernelspec": {
   "display_name": "Python 3",
   "language": "python",
   "name": "python3"
  },
  "language_info": {
   "codemirror_mode": {
    "name": "ipython",
    "version": 3
   },
   "file_extension": ".py",
   "mimetype": "text/x-python",
   "name": "python",
   "nbconvert_exporter": "python",
   "pygments_lexer": "ipython3",
   "version": "3.7.7"
  }
 },
 "nbformat": 4,
 "nbformat_minor": 4
}
